{
 "cells": [
  {
   "cell_type": "code",
   "execution_count": 2,
   "id": "81cdc3e6-20a2-49c4-802a-46634d0dc4d7",
   "metadata": {},
   "outputs": [],
   "source": [
    "import numpy as np\n",
    "import torch\n",
    "import time"
   ]
  },
  {
   "cell_type": "code",
   "execution_count": 4,
   "id": "d925f91b-8ebb-4b18-b046-8c6ad1921df3",
   "metadata": {},
   "outputs": [
    {
     "name": "stdout",
     "output_type": "stream",
     "text": [
      "0.05792737007141113\n"
     ]
    }
   ],
   "source": [
    "matrix_size=1000\n",
    "\n",
    "start_time_np= time.time()\n",
    "\n",
    "numpy_matrix1= np.random.rand(matrix_size, matrix_size)\n",
    "numpy_matrix2 = np.random.rand(matrix_size, matrix_size)\n",
    "\n",
    "np_result = np.dot(numpy_matrix1, numpy_matrix2)\n",
    "\n",
    "end_time_np = time.time()\n",
    "numpy_processing_time = end_time_np - start_time_np\n",
    "\n",
    "print(numpy_processing_time)"
   ]
  },
  {
   "cell_type": "code",
   "execution_count": 6,
   "id": "009c717b-3727-4b0f-b443-bc671dcdf83b",
   "metadata": {},
   "outputs": [
    {
     "name": "stdout",
     "output_type": "stream",
     "text": [
      "0.06641960144042969\n"
     ]
    }
   ],
   "source": [
    "start_torch_time = time.time()\n",
    "torch_tensor1 = torch.rand(matrix_size, matrix_size)\n",
    "torch_tensor2 = torch.rand(matrix_size, matrix_size)\n",
    "\n",
    "if torch.cuda.is_available():\n",
    "    torch_tensor1 = torch_tensor1.cuda()\n",
    "    torch_tensor2 = torch_tensor2.cuda()\n",
    "\n",
    "torch_result = torch.mm(torch_tensor1, torch_tensor2)\n",
    "end_time_torch = time.time()\n",
    "torch_processing_time = end_time_torch - start_torch_time\n",
    "print(torch_processing_time)\n",
    "\n"
   ]
  },
  {
   "cell_type": "code",
   "execution_count": null,
   "id": "37cf5b16-f502-438c-932f-e964fff89fa6",
   "metadata": {},
   "outputs": [],
   "source": []
  }
 ],
 "metadata": {
  "kernelspec": {
   "display_name": "Python 3 (ipykernel)",
   "language": "python",
   "name": "python3"
  },
  "language_info": {
   "codemirror_mode": {
    "name": "ipython",
    "version": 3
   },
   "file_extension": ".py",
   "mimetype": "text/x-python",
   "name": "python",
   "nbconvert_exporter": "python",
   "pygments_lexer": "ipython3",
   "version": "3.12.4"
  }
 },
 "nbformat": 4,
 "nbformat_minor": 5
}
