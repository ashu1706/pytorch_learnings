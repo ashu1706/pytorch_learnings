{
 "cells": [
  {
   "cell_type": "markdown",
   "id": "8154d9b1-0ef9-4283-8019-63f401bd195b",
   "metadata": {},
   "source": [
    "# 1D TENSOR"
   ]
  },
  {
   "cell_type": "code",
   "execution_count": 2,
   "id": "e6e175e1-e892-463c-9429-797ee2c87afa",
   "metadata": {},
   "outputs": [
    {
     "name": "stdout",
     "output_type": "stream",
     "text": [
      "Tensor is:\n",
      "tensor([1., 2., 4., 5., 7., 9.])\n"
     ]
    }
   ],
   "source": [
    "import torch\n",
    "\n",
    "tensor_data = [1, 2, 4, 5, 7, 9]\n",
    "tensor = torch.tensor(tensor_data, dtype= torch.float32)\n",
    "\n",
    "\n",
    "print(\"Tensor is:\")\n",
    "print(tensor)"
   ]
  },
  {
   "cell_type": "code",
   "execution_count": 3,
   "id": "591c79c9-5bc6-4daf-ad10-afd6c036c6dd",
   "metadata": {},
   "outputs": [
    {
     "name": "stdout",
     "output_type": "stream",
     "text": [
      "tensor([ 1.,  4., 16., 25., 49., 81.])\n"
     ]
    }
   ],
   "source": [
    "tensor = tensor**2\n",
    "print(tensor)"
   ]
  },
  {
   "cell_type": "markdown",
   "id": "a763b605-cc76-4cd7-9485-9680ad155716",
   "metadata": {},
   "source": [
    "# 2D TENSOR"
   ]
  },
  {
   "cell_type": "code",
   "execution_count": 5,
   "id": "aa4f212c-2dd5-42d2-8f52-66119bd3d54b",
   "metadata": {},
   "outputs": [
    {
     "name": "stdout",
     "output_type": "stream",
     "text": [
      "tensor([[1., 3., 5.],\n",
      "        [9., 8., 7.],\n",
      "        [3., 2., 1.]])\n"
     ]
    }
   ],
   "source": [
    "import torch\n",
    "\n",
    "tensor_data = [[1, 3, 5], [9, 8, 7], [3, 2, 1]]\n",
    "tensor = torch.tensor(tensor_data, dtype= torch.float32)\n",
    "\n",
    "print(tensor)"
   ]
  },
  {
   "cell_type": "code",
   "execution_count": 6,
   "id": "8d4a5b90-34c4-4c38-acca-51cce7387911",
   "metadata": {},
   "outputs": [
    {
     "name": "stdout",
     "output_type": "stream",
     "text": [
      "tensor([[ 2.,  6., 10.],\n",
      "        [18., 16., 14.],\n",
      "        [ 6.,  4.,  2.]])\n"
     ]
    }
   ],
   "source": [
    "tensor = tensor * 2\n",
    "print(tensor)"
   ]
  },
  {
   "cell_type": "code",
   "execution_count": 7,
   "id": "3e3f462e-d65b-4453-8ded-584d0169a962",
   "metadata": {},
   "outputs": [
    {
     "data": {
      "image/png": "[encoded data removed]",
      "text/plain": [
       "<Figure size 640x480 with 2 Axes>"
      ]
     },
     "metadata": {},
     "output_type": "display_data"
    }
   ],
   "source": [
    "import matplotlib.pyplot as plt\n",
    "\n",
    "plt.imshow(tensor, cmap='viridis', interpolation = 'nearest')\n",
    "plt.title('Visualization of Manipulated Tensor')\n",
    "plt.colorbar()\n",
    "plt.show()"
   ]
  },
  {
   "cell_type": "markdown",
   "id": "75e75b3b-6f6b-42ed-aa33-2738b6162377",
   "metadata": {},
   "source": [
    "# 3D TENSOR"
   ]
  },
  {
   "cell_type": "code",
   "execution_count": 9,
   "id": "9edbc044-44ea-41e7-b7a0-a3825e0bcb36",
   "metadata": {},
   "outputs": [],
   "source": [
    "import torch\n",
    "import matplotlib.pyplot as plt\n",
    "from mpl_toolkits.mplot3d import Axes3D\n"
   ]
  },
  {
   "cell_type": "code",
   "execution_count": 20,
   "id": "df39e3e4-b691-4196-bf20-52355ab4a5bf",
   "metadata": {},
   "outputs": [
    {
     "name": "stdout",
     "output_type": "stream",
     "text": [
      "Original 3D tensor\n",
      "tensor([[[ 1.,  2.,  3.],\n",
      "         [ 4.,  5.,  6.],\n",
      "         [ 7.,  8.,  9.]],\n",
      "\n",
      "        [[10., 11., 12.],\n",
      "         [13., 14., 15.],\n",
      "         [16., 17., 18.]],\n",
      "\n",
      "        [[ 4.,  5.,  6.],\n",
      "         [ 7.,  8.,  9.],\n",
      "         [ 6.,  5.,  7.]]])\n"
     ]
    }
   ],
   "source": [
    "tensor_data = [[[1,2,3], [4,5,6],[7,8,9]],\n",
    "               [[10,11,12], [13,14,15], [16,17,18]],\n",
    "               [[4,5,6],[7,8,9],[6,5,7]]]\n",
    "\n",
    "tensor= torch.tensor(tensor_data, dtype= torch.float32)\n",
    "print(\"Original 3D tensor\")\n",
    "print(tensor)"
   ]
  },
  {
   "cell_type": "code",
   "execution_count": 22,
   "id": "e73431a2-5508-4f5d-ba2b-d149e7a3b95e",
   "metadata": {},
   "outputs": [
    {
     "name": "stdout",
     "output_type": "stream",
     "text": [
      "tensor([[[ 2.,  4.,  6.],\n",
      "         [ 8., 10., 12.],\n",
      "         [14., 16., 18.]],\n",
      "\n",
      "        [[20., 22., 24.],\n",
      "         [26., 28., 30.],\n",
      "         [32., 34., 36.]],\n",
      "\n",
      "        [[ 8., 10., 12.],\n",
      "         [14., 16., 18.],\n",
      "         [12., 10., 14.]]])\n"
     ]
    }
   ],
   "source": [
    "tensor *=2\n",
    "print(tensor)"
   ]
  },
  {
   "cell_type": "code",
   "execution_count": null,
   "id": "d21b0192-13c8-41c3-8021-8f55df98c298",
   "metadata": {},
   "outputs": [],
   "source": []
  }
 ],
 "metadata": {
  "kernelspec": {
   "display_name": "Python 3 (ipykernel)",
   "language": "python",
   "name": "python3"
  },
  "language_info": {
   "codemirror_mode": {
    "name": "ipython",
    "version": 3
   },
   "file_extension": ".py",
   "mimetype": "text/x-python",
   "name": "python",
   "nbconvert_exporter": "python",
   "pygments_lexer": "ipython3",
   "version": "3.12.4"
  }
 },
 "nbformat": 4,
 "nbformat_minor": 5
}
